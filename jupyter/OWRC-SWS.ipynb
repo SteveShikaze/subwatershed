{
 "cells": [
  {
   "cell_type": "markdown",
   "metadata": {},
   "source": [
    "# ORMGP hydrological raster preparation\n",
    "This notebook documents the creation of a set of derivative rasters needed for watershed characterization\n",
    "\n",
    "All data can be found here: __*TO ADD*__"
   ]
  },
  {
   "cell_type": "markdown",
   "metadata": {},
   "source": [
    "## Load land use data\n",
    "The source of the land use data is: *Ministry of Natural Resources and Forestry, 2019. Southern Ontario Land Resource Information System (SOLRIS) Version 3.0: Data Specifications. Science and Research Branch, April 2019.*\n",
    "\n",
    "The SOLRIS data has already been transformed to a 25,000x25,000, 10m grid that is here up-scaled to a 5000x5000, 50m grid. The following code collects the 5x5 10m sub-grids that are aggregated to every 50m cell:"
   ]
  },
  {
   "cell_type": "code",
   "execution_count": 1,
   "metadata": {},
   "outputs": [],
   "source": [
    "import numpy as np\n",
    "import imageio\n",
    "\n",
    "s = np.fromfile(\"input/solrisv3_10_infilled.bil\", np.int16).reshape(5000, 5, -1, 5).swapaxes(1,2).reshape(-1, 5*5)"
   ]
  },
  {
   "cell_type": "markdown",
   "metadata": {},
   "source": [
    "Next, cross-referencing is accomplished to i) gather all unique SOLRIS IDs and ii) create an indexed grid referencing these unique IDs:"
   ]
  },
  {
   "cell_type": "code",
   "execution_count": 2,
   "metadata": {},
   "outputs": [],
   "source": [
    "u, ix = np.unique(s, return_inverse=True)\n",
    "ix = ix.reshape(s.shape)"
   ]
  },
  {
   "cell_type": "markdown",
   "metadata": {},
   "source": [
    "The following line up-scales the SOLRIS IDs by assigning the dominant SOLRIS ID to every 50m cell, and saves the data:"
   ]
  },
  {
   "cell_type": "code",
   "execution_count": 3,
   "metadata": {},
   "outputs": [
    {
     "name": "stderr",
     "output_type": "stream",
     "text": [
      "Lossy conversion from int16 to uint8. Range [11, 250]. Convert image to uint8 prior to saving to suppress this warning.\n"
     ]
    }
   ],
   "source": [
    "s50 = u[np.argmax(np.apply_along_axis(np.bincount, 1, ix.reshape(-1, 5*5 ), None, np.max(ix) + 1), axis=1)].reshape(5000,5000)\n",
    "s50.tofile(\"output/solrisv3_10_infilled_50.bil\")\n",
    "imageio.imwrite('output/solrisv3_10_infilled_50.png', s50)\n"
   ]
  },
  {
   "cell_type": "markdown",
   "metadata": {},
   "source": [
    "### Compute aggregates\n",
    "Next, up-scaling of land use properties (imperviousness, canopy cover, etc.) is computed by averaging the (25-cell sub-grid) 10m values over the 50m cell.\n",
    "\n",
    "#### load lookup table:"
   ]
  },
  {
   "cell_type": "code",
   "execution_count": 4,
   "metadata": {},
   "outputs": [],
   "source": [
    "import pandas as pd\n",
    "\n",
    "df = pd.read_csv(\"input/lookup_200731.csv\").fillna(0.0)\n",
    "df['PerOW'] = np.select([df['Value'] == 170], [1.0], 0.0)\n",
    "df['PerWL'] = np.select([(df['Value'] >= 131) & (df['Value'] <= 160)], [1.0], 0.0)"
   ]
  },
  {
   "cell_type": "markdown",
   "metadata": {},
   "source": [
    "#### fraction of impervious cover:"
   ]
  },
  {
   "cell_type": "code",
   "execution_count": 5,
   "metadata": {},
   "outputs": [
    {
     "name": "stderr",
     "output_type": "stream",
     "text": [
      "Lossy conversion from float64 to uint8. Range [0, 1]. Convert image to uint8 prior to saving to suppress this warning.\n"
     ]
    }
   ],
   "source": [
    "# dimp = {i:0.0 for i in u}\n",
    "# dimp[201] = .85\n",
    "# dimp[202] = .1\n",
    "# dimp[203] = .90\n",
    "dimp = pd.Series(df.PerImp.values,index=df.Value).to_dict()\n",
    "\n",
    "perimp = np.mean(np.vectorize(dimp.get)(s), 1).reshape(5000,5000)\n",
    "perimp.tofile(\"output/solrisv3_10_infilled_50_perimp.bil\")\n",
    "imageio.imwrite('output/solrisv3_10_infilled_50_perimp.png', perimp)"
   ]
  },
  {
   "cell_type": "markdown",
   "metadata": {},
   "source": [
    "#### fraction of canopy cover:"
   ]
  },
  {
   "cell_type": "code",
   "execution_count": 6,
   "metadata": {},
   "outputs": [
    {
     "name": "stderr",
     "output_type": "stream",
     "text": [
      "Lossy conversion from float64 to uint8. Range [0, 1]. Convert image to uint8 prior to saving to suppress this warning.\n"
     ]
    }
   ],
   "source": [
    "dcov = pd.Series(df.PerCov.values,index=df.Value).to_dict()\n",
    "\n",
    "percov = np.mean(np.vectorize(dcov.get)(s), 1).reshape(5000,5000)\n",
    "percov.tofile(\"output/solrisv3_10_infilled_50_percov.bil\")\n",
    "imageio.imwrite('output/solrisv3_10_infilled_50_percov.png', percov)"
   ]
  },
  {
   "cell_type": "markdown",
   "metadata": {},
   "source": [
    "#### fraction water body cover:"
   ]
  },
  {
   "cell_type": "code",
   "execution_count": 7,
   "metadata": {},
   "outputs": [
    {
     "name": "stderr",
     "output_type": "stream",
     "text": [
      "Lossy conversion from float64 to uint8. Range [0, 1]. Convert image to uint8 prior to saving to suppress this warning.\n"
     ]
    }
   ],
   "source": [
    "dow = pd.Series(df.PerOW.values,index=df.Value).to_dict()\n",
    "\n",
    "perow = np.mean(np.vectorize(dow.get)(s), 1).reshape(5000,5000)\n",
    "perow.tofile(\"output/solrisv3_10_infilled_50_perow.bil\")\n",
    "imageio.imwrite('output/solrisv3_10_infilled_50_perow.png', perow)"
   ]
  },
  {
   "cell_type": "markdown",
   "metadata": {},
   "source": [
    "#### fraction wetland cover:"
   ]
  },
  {
   "cell_type": "code",
   "execution_count": 8,
   "metadata": {},
   "outputs": [
    {
     "name": "stderr",
     "output_type": "stream",
     "text": [
      "Lossy conversion from float64 to uint8. Range [0, 1]. Convert image to uint8 prior to saving to suppress this warning.\n"
     ]
    }
   ],
   "source": [
    "dwl = pd.Series(df.PerWL.values,index=df.Value).to_dict()\n",
    "\n",
    "perwl = np.mean(np.vectorize(dwl.get)(s), 1).reshape(5000,5000)\n",
    "perwl.tofile(\"output/solrisv3_10_infilled_50_perwl.bil\")\n",
    "imageio.imwrite('output/solrisv3_10_infilled_50_perwl.png', perwl)"
   ]
  },
  {
   "cell_type": "markdown",
   "metadata": {},
   "source": [
    "## Load surficial geology data\n",
    "The source of the surficial geology data is: *Ontario Geological Survey 2010. Surficial geology of southern Ontario; Ontario Geological Survey, Miscellaneous Release— Data 128 – Revised.*\n",
    "\n",
    "The raster loaded below has been build using QGIS, no further processing required here. The raster represents a [1,8] index referring to the \"permeability\" attribute (OGS, 2010)."
   ]
  },
  {
   "cell_type": "code",
   "execution_count": 10,
   "metadata": {},
   "outputs": [
    {
     "name": "stderr",
     "output_type": "stream",
     "text": [
      "Lossy conversion from int16 to uint8. Range [0, 8]. Convert image to uint8 prior to saving to suppress this warning.\n"
     ]
    }
   ],
   "source": [
    "g = np.fromfile(\"input/OGSsurfGeo_50.bil\", np.int16).reshape(5000,5000)\n",
    "imageio.imwrite('output/OGSsurfGeo_50.png', g)"
   ]
  },
  {
   "cell_type": "markdown",
   "metadata": {},
   "source": [
    "Next, the permeability attributes are converted to an effective hydraulic conductivity, log-scaled:"
   ]
  },
  {
   "cell_type": "code",
   "execution_count": 11,
   "metadata": {},
   "outputs": [
    {
     "name": "stderr",
     "output_type": "stream",
     "text": [
      "Lossy conversion from float64 to uint8. Range [-9.0, -5.0]. Convert image to uint8 prior to saving to suppress this warning.\n"
     ]
    }
   ],
   "source": [
    "dsg = {1: -9., 2: -8., 3: -7., 4: -6., 5: -5., 6: -8., 7: -5., 8: -6.}\n",
    "gk = np.vectorize(dsg.get)(g)\n",
    "imageio.imwrite('output/OGSsurfGeo_50-k.png', gk)"
   ]
  },
  {
   "cell_type": "markdown",
   "metadata": {},
   "source": [
    "# Sub-watershed aggregation\n",
    "The ORMGP jurisdiction has been sub-divided into 2,813 ~10km² sub-watersheds and is provided as an index raster. Using a zonal analysis, raster values aggregated above are further aggregated to every sub-watershed.\n",
    "\n",
    "#### SWS index raster and *\"indicize\"*:"
   ]
  },
  {
   "cell_type": "code",
   "execution_count": 12,
   "metadata": {},
   "outputs": [
    {
     "name": "stderr",
     "output_type": "stream",
     "text": [
      "Lossy conversion from int32 to uint8. Range [-9999, 24685723]. Convert image to uint8 prior to saving to suppress this warning.\n"
     ]
    }
   ],
   "source": [
    "w = np.fromfile(\"input/owrc20-50a_SWS10.bil\", np.int32).reshape(5000,5000)\n",
    "_, iw = np.unique(w, return_inverse=True)\n",
    "imageio.imwrite('output/owrc20-50a_SWS10.png', w)"
   ]
  },
  {
   "cell_type": "markdown",
   "metadata": {},
   "source": [
    "#### collect zonal summations and build dataframe:"
   ]
  },
  {
   "cell_type": "code",
   "execution_count": 13,
   "metadata": {},
   "outputs": [],
   "source": [
    "n = np.unique(w, return_counts=True)\n",
    "sgk = np.bincount(iw, weights=gk.flatten())\n",
    "spi = np.bincount(iw, weights=perimp.flatten())\n",
    "spc = np.bincount(iw, weights=percov.flatten())\n",
    "sow = np.bincount(iw, weights=perow.flatten())\n",
    "swl = np.bincount(iw, weights=perwl.flatten())\n",
    "\n",
    "df = pd.DataFrame(data=dict(swsid=n[0],n=n[1],perm=sgk/n[1],perimp=spi/n[1],percov=spc/n[1],perow=sow/n[1],perwl=swl/n[1]))\n",
    "df = df[df.swsid != -9999]"
   ]
  },
  {
   "cell_type": "markdown",
   "metadata": {},
   "source": [
    "#### convert \"effective\" permeabilities back to OGS (2010) qualitative terms:"
   ]
  },
  {
   "cell_type": "code",
   "execution_count": 14,
   "metadata": {},
   "outputs": [],
   "source": [
    "dperm = {-9.: 'low', -8.: 'low-medium', -7.: 'medium', -6.: 'medium-high', -5.: 'high'}\n",
    "df.perm = round(df.perm,0)\n",
    "df.replace({\"perm\": dperm}, inplace=True)"
   ]
  },
  {
   "cell_type": "markdown",
   "metadata": {},
   "source": [
    "Next, this index raster is used to complete a *.csv* file that is to be joined/related to the sub-watershed polygon shapefile version of the raster loaded; this is accomplished in QGIS."
   ]
  },
  {
   "cell_type": "code",
   "execution_count": 15,
   "metadata": {},
   "outputs": [
    {
     "name": "stdout",
     "output_type": "stream",
     "text": [
      "         swsid     n        perm    perimp    percov     perow     perwl\n",
      "1      1088120  4833      medium  0.000000  0.889934  0.066360  0.058274\n",
      "2      1223024  5062  low-medium  0.000000  0.869131  0.094943  0.047902\n",
      "3      1318080  4615      medium  0.000000  0.875504  0.089309  0.046917\n",
      "4      1492963  4383      medium  0.000000  0.931478  0.027899  0.054164\n",
      "5      1628076  4105  low-medium  0.000000  0.918112  0.041657  0.053642\n",
      "...        ...   ...         ...       ...       ...       ...       ...\n",
      "2809  24445895  6393  low-medium  0.776088  0.044393  0.000000  0.000369\n",
      "2810  24515876  4072  low-medium  0.596233  0.146953  0.000000  0.001798\n",
      "2811  24535813  5594      medium  0.326551  0.476376  0.001580  0.021652\n",
      "2812  24585744  4186  low-medium  0.067743  0.434102  0.000860  0.006756\n",
      "2813  24685723  4003      medium  0.104090  0.557816  0.004177  0.019925\n",
      "\n",
      "[2813 rows x 7 columns]\n"
     ]
    }
   ],
   "source": [
    "df.to_csv(\"output/owrc20-50a_SWS10-summary.csv\",index=False)\n",
    "print(df)"
   ]
  }
 ],
 "metadata": {
  "interpreter": {
   "hash": "b89b5cfaba6639976dc87ff2fec6d58faec662063367e2c229c520fe71072417"
  },
  "kernelspec": {
   "display_name": "Python 3.10.0 64-bit",
   "language": "python",
   "name": "python3"
  },
  "language_info": {
   "codemirror_mode": {
    "name": "ipython",
    "version": 3
   },
   "file_extension": ".py",
   "mimetype": "text/x-python",
   "name": "python",
   "nbconvert_exporter": "python",
   "pygments_lexer": "ipython3",
   "version": "3.10.0"
  },
  "orig_nbformat": 4
 },
 "nbformat": 4,
 "nbformat_minor": 2
}
